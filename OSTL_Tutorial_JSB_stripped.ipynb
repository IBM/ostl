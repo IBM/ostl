{
 "cells": [
  {
   "cell_type": "markdown",
   "metadata": {},
   "source": [
    "# Music prediction (JSB)\n",
    "\n",
    "This tutorial builds on the basic understanding of OSTL. It applies OSTL to a multi-layered network, where only one layer consists of recurrent neurons. In particular, this tutorial covers:\n",
    "\n",
    "1.\tA demonstration of OSTL applied to more complex neural networks\n",
    "2.\tA demonstration of gradient equivalence between OSTL and BPTT for \"hybrid\" networks"
   ]
  },
  {
   "cell_type": "markdown",
   "metadata": {},
   "source": [
    "## Musical notes as spikes\n",
    "\n",
    "The presence of a particular sound at a particular time is what creates music. Alternatively, we can view the information about the presence of sounds or musical notes as spikes. A typical piano keyboard has 88 keys(https://commons.wikimedia.org/wiki/File:Piano_Keyboard_Diagram.svg). If each of those keys is individually represented as an input and the presence of a stroke of that key is represented as a 1 then one can encode a piece of music as a spiking input for neural networks. The animation below illustrates this process. \n",
    "\n",
    "![](./Figures/JSB_chords.gif)\n",
    "\n",
    "Therefore, for each timestep of a musical piece, we can encode the information of the musical notes played by sending spikes to an input layer with 88 inputs. In this tutorial we use the JSB dataset from **N. Boulanger-Lewandowski, et al., ICML 2012**, that comprises chorales written by Johann Sebastian Bach."
   ]
  },
  {
   "cell_type": "markdown",
   "metadata": {},
   "source": [
    "## Implementation\n",
    "\n",
    "We start by importing required Python packages and by defining an auxiliary function for data loading."
   ]
  },
  {
   "cell_type": "code",
   "execution_count": 1,
   "metadata": {},
   "outputs": [
    {
     "name": "stderr",
     "output_type": "stream",
     "text": [
      "C:\\Users\\ThomasBohnstingl\\.conda\\envs\\TF\\lib\\site-packages\\tensorflow\\python\\framework\\dtypes.py:526: FutureWarning: Passing (type, 1) or '1type' as a synonym of type is deprecated; in a future version of numpy, it will be understood as (type, (1,)) / '(1,)type'.\n",
      "  _np_qint8 = np.dtype([(\"qint8\", np.int8, 1)])\n",
      "C:\\Users\\ThomasBohnstingl\\.conda\\envs\\TF\\lib\\site-packages\\tensorflow\\python\\framework\\dtypes.py:527: FutureWarning: Passing (type, 1) or '1type' as a synonym of type is deprecated; in a future version of numpy, it will be understood as (type, (1,)) / '(1,)type'.\n",
      "  _np_quint8 = np.dtype([(\"quint8\", np.uint8, 1)])\n",
      "C:\\Users\\ThomasBohnstingl\\.conda\\envs\\TF\\lib\\site-packages\\tensorflow\\python\\framework\\dtypes.py:528: FutureWarning: Passing (type, 1) or '1type' as a synonym of type is deprecated; in a future version of numpy, it will be understood as (type, (1,)) / '(1,)type'.\n",
      "  _np_qint16 = np.dtype([(\"qint16\", np.int16, 1)])\n",
      "C:\\Users\\ThomasBohnstingl\\.conda\\envs\\TF\\lib\\site-packages\\tensorflow\\python\\framework\\dtypes.py:529: FutureWarning: Passing (type, 1) or '1type' as a synonym of type is deprecated; in a future version of numpy, it will be understood as (type, (1,)) / '(1,)type'.\n",
      "  _np_quint16 = np.dtype([(\"quint16\", np.uint16, 1)])\n",
      "C:\\Users\\ThomasBohnstingl\\.conda\\envs\\TF\\lib\\site-packages\\tensorflow\\python\\framework\\dtypes.py:530: FutureWarning: Passing (type, 1) or '1type' as a synonym of type is deprecated; in a future version of numpy, it will be understood as (type, (1,)) / '(1,)type'.\n",
      "  _np_qint32 = np.dtype([(\"qint32\", np.int32, 1)])\n",
      "C:\\Users\\ThomasBohnstingl\\.conda\\envs\\TF\\lib\\site-packages\\tensorflow\\python\\framework\\dtypes.py:535: FutureWarning: Passing (type, 1) or '1type' as a synonym of type is deprecated; in a future version of numpy, it will be understood as (type, (1,)) / '(1,)type'.\n",
      "  np_resource = np.dtype([(\"resource\", np.ubyte, 1)])\n"
     ]
    }
   ],
   "source": [
    "#General imports\n",
    "import collections\n",
    "import time\n",
    "import pickle\n",
    "import Scripts.Utils_Persistence as Utils_Persistence\n",
    "import numpy as np\n",
    "import tensorflow as tf\n",
    "from tensorflow.python.ops import rnn_cell_impl\n",
    "\n",
    "#Auxiliary function to load pkl file\n",
    "def LoadObject(name):\n",
    "    try:\n",
    "        with open(name + '.pkl', 'rb') as f:\n",
    "            object = pickle.load(f)\n",
    "        return object\n",
    "    except:\n",
    "        return None"
   ]
  },
  {
   "cell_type": "code",
   "execution_count": 2,
   "metadata": {},
   "outputs": [],
   "source": [
    "#OSTL specific inputs\n",
    "from Scripts.RNN_loop import dynamic_rnn\n",
    "from Scripts.MultiRNNCell import MultiRNNCell\n",
    "from Scripts.gradient_descent import GradientDescentOptimizer as opt\n",
    "from Scripts.Neuron_models import DenseRNNLayer, SNUELayer"
   ]
  },
  {
   "cell_type": "markdown",
   "metadata": {},
   "source": [
    "### Define configuration of the network\n",
    "\n",
    "In this section, the network configuration is defined. For example, the type of RNN units is selected."
   ]
  },
  {
   "cell_type": "code",
   "execution_count": 3,
   "metadata": {},
   "outputs": [],
   "source": [
    "config = {'batch_size': 1,\n",
    "          'lr': 0.0005,              #Fixed learning rate used during training. 'lr': 0.0003 works well for LSTM\n",
    "          'epochs': 100,             #Number of epochs to run\n",
    "          'cell': 'sSNU',\n",
    "          'N': [88,150,88],\n",
    "          'save_state': True,\n",
    "          #Specific arguments for the SNUs\n",
    "          'args': {'recurrent': True, 'trainableDecay': False, 'activation': tf.nn.sigmoid, 'g': tf.identity, 'decay': 0.4}\n",
    "          }"
   ]
  },
  {
   "cell_type": "markdown",
   "metadata": {},
   "source": [
    "As the first step, we generate the data that will be used for training and testing."
   ]
  },
  {
   "cell_type": "code",
   "execution_count": 4,
   "metadata": {},
   "outputs": [
    {
     "data": {
      "text/plain": [
       "(84, 88)"
      ]
     },
     "execution_count": 4,
     "metadata": {},
     "output_type": "execute_result"
    }
   ],
   "source": [
    "#Fix the random seed in order to be able to numerically \n",
    "#compare the computed gradients\n",
    "np.random.seed(1234)\n",
    "tf.set_random_seed(1234)\n",
    "\n",
    "#Load the JSB train dataset\n",
    "train_xy = LoadObject('./Data/JSB_train')\n",
    "len(train_xy)\n",
    "train_xy[0].shape\n",
    "\n",
    "#Load the JSB test dataset\n",
    "test_xy = LoadObject('./Data/JSB_test')\n",
    "len(test_xy)\n",
    "test_xy[0].shape"
   ]
  },
  {
   "cell_type": "markdown",
   "metadata": {},
   "source": [
    "We can visualize the first 20 time steps of this chorales as spikes. Note that the most commonly used notes are in the center of the keyboard, e.g., from 40 to 65, and the y axis is cropped"
   ]
  },
  {
   "cell_type": "code",
   "execution_count": 5,
   "metadata": {},
   "outputs": [],
   "source": [
    "import matplotlib\n",
    "matplotlib.rcParams['text.usetex'] = True\n",
    "import matplotlib.pyplot as plt\n",
    "plt.rcParams['figure.figsize'] = [20, 10]\n",
    "from matplotlib import patches\n",
    "from matplotlib import cm\n",
    "matplotlib.rcParams.update({'font.size': 22})"
   ]
  },
  {
   "cell_type": "code",
   "execution_count": 6,
   "metadata": {},
   "outputs": [
    {
     "data": {
      "text/plain": [
       "Text(0, 0.5, 'Key')"
      ]
     },
     "execution_count": 6,
     "metadata": {},
     "output_type": "execute_result"
    },
    {
     "data": {
      "image/png": "[encoded data removed]",
      "text/plain": [
       "<Figure size 1440x720 with 1 Axes>"
      ]
     },
     "metadata": {
      "needs_background": "light"
     },
     "output_type": "display_data"
    }
   ],
   "source": [
    "plt.scatter(*np.where(train_xy[0][0:20,:]), marker='|')\n",
    "plt.xlabel('Timestep')\n",
    "plt.xlim([-0.5,20.5])\n",
    "plt.ylabel('Key')"
   ]
  },
  {
   "cell_type": "markdown",
   "metadata": {},
   "source": [
    "### Preparation of the network architecture\n",
    "\n",
    "Based on this encoding of the chorales, we can build a network that receives notes and outputs notes predicted for the next timestep. In such case, the last layer should also have 88 outputs, as illustrated below (Figure adapted from **[S.Woźniak, et al., 2020](https://www.nature.com/articles/s42256-020-0187-0)**, where more detailed explanations are provided):\n",
    "![](./JSB_NW.svg)"
   ]
  },
  {
   "cell_type": "markdown",
   "metadata": {},
   "source": [
    "Let's define some placeholders"
   ]
  },
  {
   "cell_type": "code",
   "execution_count": 7,
   "metadata": {},
   "outputs": [],
   "source": [
    "#Define the placeholders to construct the network\n",
    "x = tf.placeholder(tf.float32, [1, None, config['N'][0]]) #(batchsize, timesteps, number of units)\n",
    "target = tf.placeholder(tf.float32, [1, None, config['N'][-1]])\n",
    "train = tf.placeholder_with_default(tf.constant(1, tf.int32), ())"
   ]
  },
  {
   "cell_type": "markdown",
   "metadata": {},
   "source": [
    "Let's define the units to be used. In this example we  use a single RNN layer and a sigmoid output layer on top. \n",
    "**[Can be removed]** As demonstrated in  **Supplementary material S4: OSTL applied to recurrent layers embedded in\n",
    "stateless networks** of the paper **Bohnstingl, T., Woźniak, S., Maass, W., Pantazi, A., & Eleftheriou, E. (2020). Online Spatio-Temporal Learning in Deep Neural Networks. arXiv, 2007.12723. Retrieved from https://arxiv.org/abs/2007.12723v2**, any number of stateless layers at the output do not impede the gradient equivalence of OSTL and BPTT. Therefore, the results of OSTL and BPTT even for this network architecture are expected to be identical."
   ]
  },
  {
   "cell_type": "code",
   "execution_count": 8,
   "metadata": {},
   "outputs": [],
   "source": [
    "#List containing the RNN units\n",
    "rnn_layers_BPTT = []\n",
    "rnn_layers_OSTL = []\n",
    "\n",
    "#Output variable that is used as the input to the different layers\n",
    "out = x\n",
    "for i in range(1,len(config['N'])-1):\n",
    "    initW = np.random.uniform(-np.sqrt(6) / np.sqrt(config['N'][i-1] + config['N'][i]), np.sqrt(6) / np.sqrt(config['N'][i-1] + config['N'][i]), size=(config['N'][i-1], config['N'][i]))\n",
    "    initH = np.random.uniform(-np.sqrt(6) / np.sqrt(config['N'][i] + config['N'][i]), np.sqrt(6) / np.sqrt(config['N'][i] + config['N'][i]), size=(config['N'][i], config['N'][i]))\n",
    "\n",
    "    #Create the SNU layer for BPTT\n",
    "    cell_BPTT = SNUELayer\n",
    "    rnn_layers_BPTT.append(cell_BPTT(config['N'][i], config['N'][i-1], **config['args'], initW=initW, initH=initH, name='BPTT_RNN' + str(i)))\n",
    "\n",
    "    #Create the SNU layer for OSTL\n",
    "    cell_OSTL = SNUELayer\n",
    "    rnn_layers_OSTL.append(cell_OSTL(config['N'][i], config['N'][i-1], **config['args'], initW=initW, initH=initH, name='OSTL_RNN' + str(i)))\n",
    "\n",
    "#Create the output layer for BPTT and OSTL\n",
    "initW = np.random.uniform(-np.sqrt(6) / np.sqrt(config['N'][-2] + config['N'][-1]), np.sqrt(6) / np.sqrt(config['N'][-2] + config['N'][-1]), size=(config['N'][-2], config['N'][-1]))\n",
    "initB = np.zeros((config['N'][-1],))\n",
    "rnn_layers_BPTT.append(DenseRNNLayer(units=config['N'][-1], num_units_prev=config['N'][-2], activation=None, initW=initW, initB=initB, name='BPTT_Dense'))\n",
    "rnn_layers_OSTL.append(DenseRNNLayer(units=config['N'][-1], num_units_prev=config['N'][-2], activation=None, initW=initW, initB=initB, name='OSTL_Dense'))    "
   ]
  },
  {
   "cell_type": "markdown",
   "metadata": {},
   "source": [
    "Define the optimizer to be used"
   ]
  },
  {
   "cell_type": "code",
   "execution_count": 9,
   "metadata": {},
   "outputs": [],
   "source": [
    "optimizer = opt(learning_rate=config['lr'])"
   ]
  },
  {
   "cell_type": "markdown",
   "metadata": {},
   "source": [
    "Next, we define the loss function and the optimization step"
   ]
  },
  {
   "cell_type": "code",
   "execution_count": 10,
   "metadata": {},
   "outputs": [
    {
     "name": "stdout",
     "output_type": "stream",
     "text": [
      "WARNING:tensorflow:From C:\\Users\\THOMAS~1\\AppData\\Local\\Temp/ipykernel_26640/3640140781.py:9: MultiRNNCell.__init__ (from tensorflow.python.ops.rnn_cell_impl) is deprecated and will be removed in a future version.\n",
      "Instructions for updating:\n",
      "This class is equivalent as tf.keras.layers.StackedRNNCells, and will be replaced by that in Tensorflow 2.0.\n",
      "WARNING:tensorflow:From C:\\Users\\THOMAS~1\\AppData\\Local\\Temp/ipykernel_26640/3640140781.py:10: dynamic_rnn (from tensorflow.python.ops.rnn) is deprecated and will be removed in a future version.\n",
      "Instructions for updating:\n",
      "Please use `keras.layers.RNN(cell)`, which is equivalent to this API\n",
      "WARNING:tensorflow:From C:\\Users\\ThomasBohnstingl\\.conda\\envs\\TF\\lib\\site-packages\\tensorflow\\python\\ops\\tensor_array_ops.py:162: colocate_with (from tensorflow.python.framework.ops) is deprecated and will be removed in a future version.\n",
      "Instructions for updating:\n",
      "Colocations handled automatically by placer.\n",
      "WARNING:tensorflow:From C:\\Users\\ThomasBohnstingl\\.conda\\envs\\TF\\lib\\site-packages\\tensorflow\\python\\ops\\array_grad.py:425: to_int32 (from tensorflow.python.ops.math_ops) is deprecated and will be removed in a future version.\n",
      "Instructions for updating:\n",
      "Use tf.cast instead.\n"
     ]
    }
   ],
   "source": [
    "def loss_function(target_t, output_t, time, last_time):\n",
    "    cross_entropy = tf.nn.sigmoid_cross_entropy_with_logits(labels=target_t, logits=output_t)\n",
    "    return tf.reduce_sum(cross_entropy)\n",
    "\n",
    "def gradient_function(loss, output_t, time, last_time, layer):\n",
    "    grads = tf.gradients(loss, output_t)[0] #Eq (11) dE/dy: Only considers spatial components\n",
    "    return grads\n",
    "\n",
    "multi_rnn_cell_BPTT = tf.nn.rnn_cell.MultiRNNCell(rnn_layers_BPTT)\n",
    "out_BPTT, _ = tf.nn.dynamic_rnn(multi_rnn_cell_BPTT, x, dtype=tf.float32)\n",
    "loss_BPTT = loss_function(target, out_BPTT, None, 0)\n",
    "train_step_BPTT = optimizer.minimize(loss_BPTT)\n",
    "\n",
    "multi_rnn_cell_OSTL = MultiRNNCell(rnn_layers_OSTL)\n",
    "out_OSTL, _ = dynamic_rnn(multi_rnn_cell_OSTL, x, target, loss_function, gradient_function, train, 1, 0, -1, optimizer, dtype=tf.float32)\n",
    "loss_OSTL = loss_function(target, out_OSTL, None, 0)\n",
    "train_step_OSTL = tf.no_op()"
   ]
  },
  {
   "cell_type": "markdown",
   "metadata": {},
   "source": [
    "### Train the network"
   ]
  },
  {
   "cell_type": "code",
   "execution_count": 11,
   "metadata": {
    "scrolled": true
   },
   "outputs": [
    {
     "name": "stdout",
     "output_type": "stream",
     "text": [
      "Loading checkpoint\n",
      "WARNING:tensorflow:From C:\\Users\\ThomasBohnstingl\\.conda\\envs\\TF\\lib\\site-packages\\tensorflow\\python\\training\\saver.py:1266: checkpoint_exists (from tensorflow.python.training.checkpoint_management) is deprecated and will be removed in a future version.\n",
      "Instructions for updating:\n",
      "Use standard file APIs to check for files with this prefix.\n",
      "INFO:tensorflow:Restoring parameters from ./checkpoints/JSB_sSNU_e100\n",
      "State loaded: already finished training at epoch 100 . Plotting & exiting.\n"
     ]
    }
   ],
   "source": [
    "#Define a TF session\n",
    "#with tf.Session() as s:\n",
    "s = tf.Session()\n",
    "\n",
    "#Run the initialization of the network\n",
    "s.run(tf.global_variables_initializer())\n",
    "  \n",
    "#Define lists to store the loss values\n",
    "avg_cost_list_BPTT = []\n",
    "avg_cost_list_OSTL = []\n",
    "\n",
    "#Try to load a checkpoint if any exists\n",
    "resume = Utils_Persistence.LoadObject('./checkpoints/JSB_' + config['cell'])\n",
    "if resume is not None:\n",
    "    print('Loading checkpoint')\n",
    "    epoch = resume['epoch']\n",
    "    np.random.set_state(resume['rng'])\n",
    "    Utils_Persistence.PersistenceLoadThis(s, 'JSB_' + config['cell'] + '_e' + str(epoch), withGraph=False)\n",
    "    if epoch >= config['epochs']:\n",
    "        print(\"State loaded: already finished training at epoch\", epoch, \". Plotting & exiting.\")\n",
    "        exit(0)\n",
    "    else:\n",
    "        print('State loaded: resuming the learning from epoch', epoch)\n",
    "    not_loaded = False\n",
    "else:\n",
    "    print(\"Did not find checkpoint. Run from scratch\")\n",
    "    epoch = 0\n",
    "    not_loaded = True\n",
    "    \n",
    "epochs = config['epochs']\n",
    "\n",
    "while epoch < epochs:\n",
    "    epoch += 1;\n",
    "    avg_cost_BPTT = 0\n",
    "    avg_cost_OSTL = 0\n",
    "    sum_len = 0\n",
    "    avg_cost_test_BPTT = 0\n",
    "    avg_cost_test_OSTL = 0\n",
    "    sum_len_test = 0\n",
    "\n",
    "    batch_size = config['batch_size']\n",
    "    for b in range(0, len(train_xy), batch_size):\n",
    "        batch_x = []\n",
    "        batch_y = []\n",
    "        inc = 0\n",
    "\n",
    "        while(len(batch_x) < batch_size and (b + inc) <= len(train_xy)):\n",
    "            batch_x.extend(train_xy[b+inc][0:-1, :])\n",
    "            batch_y.extend(train_xy[b+inc][1:, :])\n",
    "            inc += 1\n",
    "\n",
    "        batch_x = np.array(batch_x)\n",
    "        batch_y = np.array(batch_y)\n",
    "\n",
    "        if batch_size == 1:\n",
    "            batch_x = np.expand_dims(batch_x, 0)\n",
    "\n",
    "        if batch_size == 1:\n",
    "            batch_y = np.expand_dims(batch_y, 0)\n",
    "\n",
    "        [ce_BPTT, ce_OSTL, _, _] = s.run([loss_BPTT, loss_OSTL, train_step_BPTT, train_step_OSTL], \n",
    "                                 feed_dict={x: batch_x, target: batch_y, train: 1})\n",
    "        avg_cost_BPTT += np.sum(ce_BPTT)\n",
    "        avg_cost_OSTL += np.sum(ce_OSTL)\n",
    "        sum_len += batch_x.shape[1]\n",
    "\n",
    "    for b in range(0, len(test_xy), batch_size):\n",
    "        batch_x = []\n",
    "        batch_y = []\n",
    "        inc = 0\n",
    "\n",
    "        while(len(batch_x) < batch_size and (b + inc) <= len(test_xy)):\n",
    "            batch_x.extend(test_xy[b+inc][0:-1, :])\n",
    "            batch_y.extend(test_xy[b+inc][1:, :])\n",
    "            inc += 1\n",
    "\n",
    "        batch_x = np.array(batch_x)\n",
    "        batch_y = np.array(batch_y)\n",
    "\n",
    "        if batch_size == 1:\n",
    "            batch_x = np.expand_dims(batch_x, 0)\n",
    "\n",
    "        if batch_size == 1:\n",
    "            batch_y = np.expand_dims(batch_y, 0)\n",
    "\n",
    "        [ce_BPTT, ce_OSTL] = s.run([loss_BPTT, loss_OSTL], feed_dict={x: batch_x, target: batch_y, train: 0})\n",
    "        \n",
    "        avg_cost_test_BPTT += np.sum(ce_BPTT)\n",
    "        avg_cost_test_OSTL += np.sum(ce_OSTL)\n",
    "        sum_len_test += batch_x.shape[1]\n",
    "        \n",
    "    avg_cost_list_BPTT.append(avg_cost_test_BPTT / sum_len_test)\n",
    "    avg_cost_list_OSTL.append(avg_cost_test_OSTL / sum_len_test)\n",
    "    \n",
    "    print(\"BPTT -> Epoch:\", epoch, \"cost {:.4f}\".format(avg_cost_BPTT / sum_len), \"test cost {:.4f}\".format(avg_cost_test_BPTT / sum_len_test))\n",
    "    print(\"OSTL -> Epoch:\", epoch, \"cost {:.4f}\".format(avg_cost_OSTL / sum_len), \"test cost {:.4f}\".format(avg_cost_test_OSTL / sum_len_test))\n",
    "    \n",
    "    \n",
    "if not_loaded and config['save_state'] and ('JSB_' + config['cell']) is not None:\n",
    "    Utils_Persistence.PersitenceSaveThis(s, 'JSB_' + config['cell'] + '_e' + str(epoch))\n",
    "    Utils_Persistence.SaveObject({'epoch': epoch, 'rng': np.random.get_state(),\n",
    "                                  'avg_cost_list_BPTT': avg_cost_list_BPTT, \n",
    "                                  'avg_cost_list_OSTL': avg_cost_list_OSTL}, './checkpoints/JSB_' + config['cell'])\n",
    "    print('State saved at epoch ' + str(epoch))"
   ]
  },
  {
   "cell_type": "markdown",
   "metadata": {},
   "source": [
    "### Evaluate the network\n",
    "\n",
    "Load stored checkpoints"
   ]
  },
  {
   "cell_type": "code",
   "execution_count": 12,
   "metadata": {},
   "outputs": [
    {
     "name": "stdout",
     "output_type": "stream",
     "text": [
      "Loading checkpoint\n",
      "INFO:tensorflow:Restoring parameters from ./checkpoints/JSB_sSNU_e100\n",
      "State loaded: resuming the learning from epoch 100\n"
     ]
    }
   ],
   "source": [
    "#Try to load a checkpoint if any exists\n",
    "resume = Utils_Persistence.LoadObject('./checkpoints/JSB_' + config['cell'])\n",
    "if resume is not None:\n",
    "    print('Loading checkpoint')\n",
    "    epoch = resume['epoch']\n",
    "    avg_cost_list_BPTT = resume['avg_cost_list_BPTT']\n",
    "    avg_cost_list_OSTL = resume['avg_cost_list_OSTL']\n",
    "    np.random.set_state(resume['rng'])\n",
    "    Utils_Persistence.PersistenceLoadThis(s, 'JSB_' + config['cell'] + '_e' + str(epoch), withGraph=False)\n",
    "    print('State loaded: resuming the learning from epoch', epoch)\n",
    "else:\n",
    "    print(\"Did not find checkpoint. Please run model from scratch!\")"
   ]
  },
  {
   "cell_type": "markdown",
   "metadata": {},
   "source": [
    "### Investigate the gradients\n",
    "\n",
    "Finally, we can plot the loss function as a proxy of the equivalent gradients:"
   ]
  },
  {
   "cell_type": "code",
   "execution_count": 13,
   "metadata": {},
   "outputs": [
    {
     "data": {
      "text/plain": [
       "<matplotlib.legend.Legend at 0x22359fa3b08>"
      ]
     },
     "execution_count": 13,
     "metadata": {},
     "output_type": "execute_result"
    },
    {
     "data": {
      "image/png": "[encoded data removed]",
      "text/plain": [
       "<Figure size 1440x720 with 1 Axes>"
      ]
     },
     "metadata": {
      "needs_background": "light"
     },
     "output_type": "display_data"
    }
   ],
   "source": [
    "fig, ax = plt.subplots(1, 1)\n",
    "ax.plot(avg_cost_list_BPTT, label='OSTL')\n",
    "ax.scatter(np.arange(len(avg_cost_list_BPTT)), avg_cost_list_BPTT, marker='x', s=200, label='BPTT')\n",
    "ax.set_xlabel('Time')\n",
    "ax.set_ylabel('Loss')\n",
    "ax.legend()"
   ]
  }
 ],
 "metadata": {
  "jupytext": {
   "formats": "ipynb,auto:percent"
  },
  "kernelspec": {
   "display_name": "Python 3 (ipykernel)",
   "language": "python",
   "name": "python3"
  },
  "language_info": {
   "codemirror_mode": {
    "name": "ipython",
    "version": 3
   },
   "file_extension": ".py",
   "mimetype": "text/x-python",
   "name": "python",
   "nbconvert_exporter": "python",
   "pygments_lexer": "ipython3",
   "version": "3.7.4"
  }
 },
 "nbformat": 4,
 "nbformat_minor": 4
}
