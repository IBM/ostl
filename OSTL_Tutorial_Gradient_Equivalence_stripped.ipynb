{
 "cells": [
  {
   "cell_type": "markdown",
   "metadata": {},
   "source": [
    "# Introduction and demonstration of OSTL\n",
    "\n",
    "This tutorial starts from a short description of BPTT, followed by a discussion of its shortcomings. Next, we introduce OSTL as a biologically-inspired alternative to BPTT. We demonstrate its basic operational principle and showcase the gradient-equivalence for certain scenarios, using here an example of a simple task of learning the XOR function. In particular, this tutorial:\n",
    "\n",
    "1. Introduces Online Spatio-Temporal Learning (OSTL) as an alternative to back-propagation through time (BPTT)\n",
    "2. Illustrates the basic working principle of OSTL\n",
    "3. Demonstrates gradient-equivalence for LSTM and bio-inspired SNU units\n",
    "\n",
    "This tutorial is based on the paper\n",
    "**Bohnstingl, T., Woźniak, S., Maass, W., Pantazi, A., & Eleftheriou, E. (2020). Online Spatio-Temporal Learning in Deep Neural Networks. arXiv, 2007.12723. https://arxiv.org/abs/2007.12723v2**"
   ]
  },
  {
   "cell_type": "markdown",
   "metadata": {},
   "source": [
    "## Back-propagation through time (BPTT)\n",
    "\n",
    "Almost all recurrent neural networks (RNN) used in machine learning operating on temporal input data are trained with the error back-propagation through time algorithm. This algorithm works by unrolling the RNN over time, i.e., the network is replicated for each individual discrete time step. The video below illustrates this process for a two-layer RNN which receives a phrase of French words as an input sequence: \"Conseil Européen pour la Recherche Nucléaire\", and is given the task to translate this three-step long sentence into its English version: \"European Council for Nuclear Research\".\n",
    "\n",
    "![](./Figures/BPTT.gif)\n",
    "    \n",
    "At first, the network is unrolled in time, i.e., the network is replicated for three time steps. Then, the inputs for these time steps are fed sequentially and the output is computed for each time step separately. Once the entire input sequence has been processed, the network operation is interrupted and the gradients of the error with respect to the parameters are propagated back through time. \n",
    "\n",
    "$$\n",
    "\\newcommand{\\dv}[2]{\\frac{\\textrm{d}#1}{\\textrm{d}#2}}\n",
    "\\newcommand{\\pdv}[2]{\\frac{\\partial #1}{\\partial #2}}\n",
    "\\begin{align}\n",
    "\\Delta {\\theta}_l &= -\\eta \\dv{E}{{\\theta}_l}\\\\\n",
    "&= -\\eta \\sum_{1 \\leq t \\leq T} \\dv{E_k^t}{{\\theta}_l}\n",
    "\\end{align}$$\n",
    "\n",
    "It is important to note that the error is typically only provided at the output layer *k* and has to propagate through the units in the network to reach all parameters. For example, if a network is composed of two layers with simple RNN cells:\n",
    "\n",
    "$$\n",
    "\\newcommand{\\dv}[2]{\\frac{\\textrm{d}#1}{\\textrm{d}#2}}\n",
    "\\newcommand{\\pdv}[2]{\\frac{\\partial #1}{\\partial #2}}\n",
    "\\begin{align}\n",
    "{s}_l^t &= g({W}_l x^t + {H}_l y^t + d \\cdot (1- y_l^{t-1}) \\cdot {s}_l^{t-1}),\\\\\n",
    "{y}_l^t &= {\\sigma}({s}^t + {b}_l),\n",
    "\\end{align}$$\n",
    "\n",
    "with $${\\theta}_l=\\{{W}_l, {H}_l, {b}_l\\}$$.\n",
    "    \n",
    "### Disadvantages and drawbacks\n",
    "- In order to compute $\\Delta {\\theta}_l$, the input sequence has to be observed till its last time step and the intermediate activations need to be stored\n",
    "- In consequence, memory requirements grow linearly with length of input sequence *T*\n",
    "- Separate phases for the forward propagation and the gradient computation are required \n",
    "- $\\Delta {\\theta}_l$ contains a complex combination of *spatial* and *temporal* gradients "
   ]
  },
  {
   "cell_type": "markdown",
   "metadata": {},
   "source": [
    "## Online Spatio-Temporal Learning (OSTL)\n",
    "\n",
    "A way to tackle the shortcomings of BPTT is proposed in OSTL. This algorithm also makes use of gradient computations, but the way those computations are done is much inspired by findings from biological systems.\n",
    "In particular, as the following Figure illustrates, three factors are found in biology to modulate the change of synaptic weights (plasticity):\n",
    "1. Pre-synaptic activity\n",
    "2. Post-synaptic activity\n",
    "3. Learning signals, so called-third factors\n",
    "\n",
    "![](./Figures/ThreeFactors.svg)\n",
    "\n",
    "Inspired by this, we assign to each synapse a so-called eligibility trace\n",
    "$$\n",
    "\\newcommand{\\dv}[2]{\\frac{\\textrm{d}#1}{\\textrm{d}#2}}\n",
    "\\newcommand{\\pdv}[2]{\\frac{\\partial #1}{\\partial #2}}\n",
    "\\begin{align}\n",
    "\\mathbf{e}^{t,{\\theta}_l}_{k} &= \\pdv{{y}^t_{k}}{{s}^t_{k}} {\\epsilon}^{t,{\\theta}_l}_{k} + \\pdv{{y}^t_{k}}{{\\theta}_{l}},\n",
    "\\end{align}$$\n",
    "\n",
    "with $$\n",
    "\\newcommand{\\dv}[2]{\\frac{\\textrm{d}#1}{\\textrm{d}#2}}\n",
    "\\newcommand{\\pdv}[2]{\\frac{\\partial #1}{\\partial #2}}\n",
    "\\newcommand\\myeq{\\stackrel{\\mbox{def}}{=}}\n",
    "\\begin{align}\n",
    "{\\epsilon}_k^{t,{\\theta}_l} &\\myeq \\dv{{s}_k^t}{{\\theta}_l}.\n",
    "\\end{align}$$\n",
    "\n",
    "Importantly, this eligibility trace holds information of the pre- and post-synaptic activity and carries this information through time, hence those are the spatial gradient components. Furthermoer, we define the learning signal, which transports information from the environment to the synapses, to be\n",
    "$$\n",
    "\\newcommand{\\dv}[2]{\\frac{\\textrm{d}#1}{\\textrm{d}#2}}\n",
    "\\newcommand{\\pdv}[2]{\\frac{\\partial #1}{\\partial #2}}\n",
    "\\begin{align}\n",
    "\\mathbf{L}^t_{l} &= \\pdv{E^t}{{y}_k^t} \\left( \\prod_{(k-l+1) > m \\ge 1} \\pdv{{y}^t_{k-m+1}}{{s}^t_{k-m+1}} \\pdv{{s}^t_{k-m+1}}{{y}^t_{k-m}} \\right).\n",
    "\\end{align}$$\n",
    "\n",
    "The learning signal transports information from the environment to the individual layers of the network *l*, hence those are the temporal components of the gradients. \n",
    "To finally compute the gradients for the trainable parameters, the eligitbility traces and the learning signals are combined at each time step (online) according to\n",
    "$$\n",
    "\\newcommand{\\dv}[2]{\\frac{\\textrm{d}#1}{\\textrm{d}#2}}\n",
    "\\newcommand{\\pdv}[2]{\\frac{\\partial #1}{\\partial #2}}\n",
    "\\begin{align}\n",
    "\\Delta {\\theta}_l &= -\\eta \\sum_{1 \\leq t \\leq T} \\left( \\mathbf{L}_l^t \\mathbf{e}_l^{t,{\\theta}_l} + \\mathbf{R}\\right),\n",
    "\\end{align}\n",
    "$$\n",
    "\n",
    "which gives rise to the name \"Online Spatio-Temporal learning\".\n",
    "The working pricinple of OSTL is illustrated in the animation below.\n",
    "\n",
    "![](./Figures/OSTL.gif)"
   ]
  },
  {
   "cell_type": "markdown",
   "metadata": {},
   "source": [
    "## Implementation\n",
    "\n",
    "We start by importing required python packages and by defining an auxiliary function for data generation."
   ]
  },
  {
   "cell_type": "code",
   "execution_count": 1,
   "metadata": {
    "scrolled": true
   },
   "outputs": [
    {
     "name": "stderr",
     "output_type": "stream",
     "text": [
      "C:\\Users\\ThomasBohnstingl\\.conda\\envs\\TF\\lib\\site-packages\\tensorflow\\python\\framework\\dtypes.py:526: FutureWarning: Passing (type, 1) or '1type' as a synonym of type is deprecated; in a future version of numpy, it will be understood as (type, (1,)) / '(1,)type'.\n",
      "  _np_qint8 = np.dtype([(\"qint8\", np.int8, 1)])\n",
      "C:\\Users\\ThomasBohnstingl\\.conda\\envs\\TF\\lib\\site-packages\\tensorflow\\python\\framework\\dtypes.py:527: FutureWarning: Passing (type, 1) or '1type' as a synonym of type is deprecated; in a future version of numpy, it will be understood as (type, (1,)) / '(1,)type'.\n",
      "  _np_quint8 = np.dtype([(\"quint8\", np.uint8, 1)])\n",
      "C:\\Users\\ThomasBohnstingl\\.conda\\envs\\TF\\lib\\site-packages\\tensorflow\\python\\framework\\dtypes.py:528: FutureWarning: Passing (type, 1) or '1type' as a synonym of type is deprecated; in a future version of numpy, it will be understood as (type, (1,)) / '(1,)type'.\n",
      "  _np_qint16 = np.dtype([(\"qint16\", np.int16, 1)])\n",
      "C:\\Users\\ThomasBohnstingl\\.conda\\envs\\TF\\lib\\site-packages\\tensorflow\\python\\framework\\dtypes.py:529: FutureWarning: Passing (type, 1) or '1type' as a synonym of type is deprecated; in a future version of numpy, it will be understood as (type, (1,)) / '(1,)type'.\n",
      "  _np_quint16 = np.dtype([(\"quint16\", np.uint16, 1)])\n",
      "C:\\Users\\ThomasBohnstingl\\.conda\\envs\\TF\\lib\\site-packages\\tensorflow\\python\\framework\\dtypes.py:530: FutureWarning: Passing (type, 1) or '1type' as a synonym of type is deprecated; in a future version of numpy, it will be understood as (type, (1,)) / '(1,)type'.\n",
      "  _np_qint32 = np.dtype([(\"qint32\", np.int32, 1)])\n",
      "C:\\Users\\ThomasBohnstingl\\.conda\\envs\\TF\\lib\\site-packages\\tensorflow\\python\\framework\\dtypes.py:535: FutureWarning: Passing (type, 1) or '1type' as a synonym of type is deprecated; in a future version of numpy, it will be understood as (type, (1,)) / '(1,)type'.\n",
      "  np_resource = np.dtype([(\"resource\", np.ubyte, 1)])\n"
     ]
    }
   ],
   "source": [
    "#General imports\n",
    "import collections\n",
    "import argparse\n",
    "import time\n",
    "import pickle\n",
    "import Scripts.Utils_Persistence as Utils_Persistence\n",
    "import numpy as np\n",
    "import tensorflow as tf\n",
    "from tensorflow.python.ops import rnn_cell_impl\n",
    "    \n",
    "#This function creates data from the XOR function\n",
    "def createXorData(bs, seq_len):\n",
    "    x_val = np.tile(np.expand_dims([[1], [0], [1], [1], [0], [0], [1], [1], [0], [1]], 0), (bs, 1, 1))\n",
    "    y_val = np.tile(np.expand_dims([[0], [1], [1], [1], [0], [0], [0], [0], [1], [0]], 0), (bs, 1, 1))\n",
    "    \n",
    "    return x_val, y_val"
   ]
  },
  {
   "cell_type": "code",
   "execution_count": 2,
   "metadata": {},
   "outputs": [],
   "source": [
    "#OSTL specific inputs\n",
    "from Scripts.RNN_loop import dynamic_rnn\n",
    "from Scripts.MultiRNNCell import MultiRNNCell\n",
    "from Scripts.gradient_descent import GradientDescentOptimizer as opt\n",
    "from Scripts.Neuron_models import SNUELayer"
   ]
  },
  {
   "cell_type": "markdown",
   "metadata": {},
   "source": [
    "### Define configuration of the network\n",
    "\n",
    "In this section, the network configuration is defined. For example, the type of unit to run may be selected. One of the options is to use soft spiking neural units (sSNU). These units have been introduced in the paper **Woźniak, S., Pantazi, A., Bohnstingl, T., & Eleftheriou, E. (2020). Deep learning incorporating biologically inspired neural dynamics and in-memory computing - Nature Machine Intelligence. Nat. Mach. Intell., 2(6), 325–336. doi: 10.1038/s42256-020-0187-0**"
   ]
  },
  {
   "cell_type": "code",
   "execution_count": 3,
   "metadata": {},
   "outputs": [],
   "source": [
    "config = {'lr': 0.01,\n",
    "          'batch_size': 1,\n",
    "          'cell': 'sSNU',\n",
    "          'seq_len': 10,\n",
    "          'save_state': True,\n",
    "         }"
   ]
  },
  {
   "cell_type": "markdown",
   "metadata": {},
   "source": [
    "As the first step, we generate the data that will later be used for training and for testing. This tutorial illustrates solving a fixed input/output relation using the sSNU. The following animation demonstrates this task: \n",
    "\n",
    "![](XOR2.gif)"
   ]
  },
  {
   "cell_type": "code",
   "execution_count": 4,
   "metadata": {},
   "outputs": [],
   "source": [
    "#Fix the random seed in order to be able to numerically \n",
    "#compare the computed gradients\n",
    "np.random.seed(1234)\n",
    "tf.set_random_seed(1234)\n",
    "\n",
    "#We generate \"config['batch_size']\" examples with a length of 100 for testing \n",
    "val_data_x_val, val_data_y_val = createXorData(config['batch_size'], config['seq_len'])\n",
    "\n",
    "#We generate data roughly 2000 examples with a length of 100 for traininging\n",
    "train_data_x_val, train_data_y_val = createXorData(int(2000/config['batch_size']), config['seq_len'])\n",
    "train_data_x_val.shape\n",
    "\n",
    "#Generate test data\n",
    "test_data_x_val, test_data_y_val = createXorData(config['batch_size'], config['seq_len'])"
   ]
  },
  {
   "cell_type": "markdown",
   "metadata": {},
   "source": [
    "Next we can also briefly visualize the data"
   ]
  },
  {
   "cell_type": "code",
   "execution_count": 5,
   "metadata": {},
   "outputs": [],
   "source": [
    "import matplotlib\n",
    "matplotlib.rcParams['text.usetex'] = True\n",
    "import matplotlib.pyplot as plt\n",
    "plt.rcParams['figure.figsize'] = [20, 10]\n",
    "from matplotlib import patches\n",
    "from matplotlib import cm\n",
    "matplotlib.rcParams.update({'font.size': 22})"
   ]
  },
  {
   "cell_type": "code",
   "execution_count": 6,
   "metadata": {},
   "outputs": [
    {
     "name": "stderr",
     "output_type": "stream",
     "text": [
      "C:\\Users\\ThomasBohnstingl\\.conda\\envs\\TF\\lib\\site-packages\\ipykernel_launcher.py:15: UserWarning: FixedFormatter should only be used together with FixedLocator\n",
      "  from ipykernel import kernelapp as app\n"
     ]
    },
    {
     "data": {
      "text/plain": [
       "[<matplotlib.axis.YTick at 0x20756d86388>,\n",
       " <matplotlib.axis.YTick at 0x20756d82088>,\n",
       " <matplotlib.axis.YTick at 0x20758e12508>]"
      ]
     },
     "execution_count": 6,
     "metadata": {},
     "output_type": "execute_result"
    },
    {
     "data": {
      "image/png": "[encoded data removed]",
      "text/plain": [
       "<Figure size 1440x720 with 1 Axes>"
      ]
     },
     "metadata": {
      "needs_background": "light"
     },
     "output_type": "display_data"
    }
   ],
   "source": [
    "fig, ax = plt.subplots(1, 1)\n",
    "for x in np.where(train_data_x_val[10, :20, 0])[0]:\n",
    "    ax.axvline(x=x, ymin=0.03, ymax=0.25, color='C0', linewidth=6.)\n",
    "p = patches.Rectangle((-0.2, -0.1), 0.4+np.max(np.where(train_data_x_val[10, :20, :])[0]), 1, linewidth=1, edgecolor='none', facecolor='C0', alpha=0.2)\n",
    "ax.add_patch(p)\n",
    "for x in np.where(train_data_y_val[10, :20, 0])[0]:\n",
    "    ax.axvline(x=x, ymin=0.7, ymax=0.9, color='C2', linewidth=6.)\n",
    "p = patches.Rectangle((-0.2, 2.3), 0.4+np.max(np.where(train_data_x_val[10, :20, :])[0]), 1, linewidth=1, edgecolor='none', facecolor='C2', alpha=0.2)\n",
    "ax.add_patch(p)\n",
    "\n",
    "ax.set_xlim([-5., np.max(np.where(train_data_x_val[10, :20, :])[0])+5.])\n",
    "ax.set_xticks(np.arange(0., np.max(np.where(train_data_x_val[10, :20, :])[0])+5.))\n",
    "ax.set_xlabel('Timestep')\n",
    "ax.set_ylim([-0.1,3.5])\n",
    "ax.set_yticklabels(['Input 1', 'Input 2', 'Ouptut'])\n",
    "ax.set_yticks([0.45, 1.6, 2.7])"
   ]
  },
  {
   "cell_type": "markdown",
   "metadata": {},
   "source": [
    "### Preparation of the network architecture\n",
    "\n",
    "<Put an illustration of the network architecture here>"
   ]
  },
  {
   "cell_type": "markdown",
   "metadata": {},
   "source": [
    "Let's define some placeholders"
   ]
  },
  {
   "cell_type": "code",
   "execution_count": 7,
   "metadata": {},
   "outputs": [],
   "source": [
    "#Define the placeholders to construct the network\n",
    "x = tf.placeholder(tf.float32, [None, None, 1])  #(batchsize, timesteps, number of units)\n",
    "target = tf.placeholder(tf.float32, [None, None, 1])\n",
    "train = tf.placeholder_with_default(tf.constant(1, tf.int32), ())"
   ]
  },
  {
   "cell_type": "markdown",
   "metadata": {},
   "source": [
    "Let's define the units to be used"
   ]
  },
  {
   "cell_type": "code",
   "execution_count": 8,
   "metadata": {},
   "outputs": [
    {
     "data": {
      "text/plain": [
       "\"\\n#Create the SNU layer for BPTT and for OSTL\\nrnn_layers_BPTT.append(SNUELayer(1, 1, activation=tf.nn.sigmoid, recurrent=True, decay=0., g=tf.identity, name='BPTT'))\\nrnn_layers_OSTL.append(SNUELayer(1, 1, activation=tf.nn.sigmoid, recurrent=True, decay=0., g=tf.identity, name='OSTL'))\\n\""
      ]
     },
     "execution_count": 8,
     "metadata": {},
     "output_type": "execute_result"
    }
   ],
   "source": [
    "#List containing the RNN units\n",
    "rnn_layers_BPTT = []\n",
    "rnn_layers_OSTL = []\n",
    "\n",
    "#Create fixed random initializers for reproducibility\n",
    "initW = np.random.uniform(-np.sqrt(6) / np.sqrt(1 + 1), np.sqrt(6) / np.sqrt(1 + 1), size=(1, 1))\n",
    "initH = np.random.uniform(-np.sqrt(6) / np.sqrt(1 + 1), np.sqrt(6) / np.sqrt(1 + 1), size=(1, 1))\n",
    "\n",
    "#Create the SNU layer for BPTT and for OSTL\n",
    "rnn_layers_BPTT.append(SNUELayer(1, 1, activation=tf.nn.sigmoid, recurrent=True, decay=0., g=tf.identity, initW=initW, initH=initH, name='BPTT'))\n",
    "rnn_layers_OSTL.append(SNUELayer(1, 1, activation=tf.nn.sigmoid, recurrent=True, decay=0., g=tf.identity, initW=initW, initH=initH, name='OSTL'))\n",
    "'''\n",
    "#Create the SNU layer for BPTT and for OSTL\n",
    "rnn_layers_BPTT.append(SNUELayer(1, 1, activation=tf.nn.sigmoid, recurrent=True, decay=0., g=tf.identity, name='BPTT'))\n",
    "rnn_layers_OSTL.append(SNUELayer(1, 1, activation=tf.nn.sigmoid, recurrent=True, decay=0., g=tf.identity, name='OSTL'))\n",
    "'''"
   ]
  },
  {
   "cell_type": "markdown",
   "metadata": {},
   "source": [
    "Define the optimizer to be used"
   ]
  },
  {
   "cell_type": "code",
   "execution_count": 9,
   "metadata": {},
   "outputs": [],
   "source": [
    "optimizer = opt(learning_rate=config['lr'])"
   ]
  },
  {
   "cell_type": "markdown",
   "metadata": {},
   "source": [
    "Next, we define the loss function and the optimization step"
   ]
  },
  {
   "cell_type": "code",
   "execution_count": 10,
   "metadata": {},
   "outputs": [
    {
     "name": "stdout",
     "output_type": "stream",
     "text": [
      "WARNING:tensorflow:From C:\\Users\\THOMAS~1\\AppData\\Local\\Temp/ipykernel_16928/4109756845.py:19: MultiRNNCell.__init__ (from tensorflow.python.ops.rnn_cell_impl) is deprecated and will be removed in a future version.\n",
      "Instructions for updating:\n",
      "This class is equivalent as tf.keras.layers.StackedRNNCells, and will be replaced by that in Tensorflow 2.0.\n",
      "WARNING:tensorflow:From C:\\Users\\THOMAS~1\\AppData\\Local\\Temp/ipykernel_16928/4109756845.py:20: dynamic_rnn (from tensorflow.python.ops.rnn) is deprecated and will be removed in a future version.\n",
      "Instructions for updating:\n",
      "Please use `keras.layers.RNN(cell)`, which is equivalent to this API\n",
      "WARNING:tensorflow:From C:\\Users\\ThomasBohnstingl\\.conda\\envs\\TF\\lib\\site-packages\\tensorflow\\python\\ops\\tensor_array_ops.py:162: colocate_with (from tensorflow.python.framework.ops) is deprecated and will be removed in a future version.\n",
      "Instructions for updating:\n",
      "Colocations handled automatically by placer.\n"
     ]
    }
   ],
   "source": [
    "#Define the loss function to be used in OSTL\n",
    "def loss_function(target_t, output_t, time, layer):\n",
    "    '''\n",
    "    Computes the desired loss for a single timestep\n",
    "    '''\n",
    "    loss = tf.reduce_sum(tf.cast(tf.squared_difference(output_t, target_t), dtype=tf.float32))\n",
    "    loss = tf.reduce_sum(loss)\n",
    "    return loss\n",
    "\n",
    "#Define the gradient function to compute the learning signal\n",
    "def gradient_function(loss, output_t, time, last_time, layer):\n",
    "    '''\n",
    "    Computes the learning signal used for OSTL\n",
    "    '''\n",
    "    grads = tf.gradients(loss, output_t)[0]\n",
    "    return grads\n",
    "\n",
    "#Optimization step for BPTT\n",
    "multi_rnn_cell_BPTT = tf.nn.rnn_cell.MultiRNNCell(rnn_layers_BPTT)\n",
    "out_BPTT, state_BPTT = tf.nn.dynamic_rnn(multi_rnn_cell_BPTT, x, dtype=tf.float32)\n",
    "loss_BPTT = loss_function(target, out_BPTT, None, 0)\n",
    "train_step_BPTT = optimizer.minimize(loss_BPTT)\n",
    "\n",
    "#Optimization step for OSTL\n",
    "multi_rnn_cell_OSTL = MultiRNNCell(rnn_layers_OSTL)\n",
    "out_OSTL, state_OSTL = dynamic_rnn(multi_rnn_cell_OSTL, x, target, loss_function, gradient_function, train, 1, 0, -1, optimizer, dtype=tf.float32)\n",
    "loss_OSTL = loss_function(target, out_OSTL, None, 0)\n",
    "train_step_OSTL = tf.no_op()"
   ]
  },
  {
   "cell_type": "markdown",
   "metadata": {},
   "source": [
    "### Train the network"
   ]
  },
  {
   "cell_type": "code",
   "execution_count": 11,
   "metadata": {
    "scrolled": true
   },
   "outputs": [
    {
     "name": "stdout",
     "output_type": "stream",
     "text": [
      "Loading checkpoint\n",
      "WARNING:tensorflow:From C:\\Users\\ThomasBohnstingl\\.conda\\envs\\TF\\lib\\site-packages\\tensorflow\\python\\training\\saver.py:1266: checkpoint_exists (from tensorflow.python.training.checkpoint_management) is deprecated and will be removed in a future version.\n",
      "Instructions for updating:\n",
      "Use standard file APIs to check for files with this prefix.\n",
      "INFO:tensorflow:Restoring parameters from ./checkpoints/GradEqu_sSNU_e1999\n",
      "State loaded: resuming the learning from itr 1999\n"
     ]
    }
   ],
   "source": [
    "#Array to track the gradients of the individual weights\n",
    "vals_BPTT = []\n",
    "vals_OSTL = []\n",
    "\n",
    "vals_tensor_length = int(len(tf.trainable_variables())/2)\n",
    "vals_tensor_BPTT = tf.trainable_variables()[:vals_tensor_length]\n",
    "vals_tensor_OSTL = tf.trainable_variables()[vals_tensor_length:]\n",
    "\n",
    "#Define the feed_dictionary for testing\n",
    "feed_dict_val = {x: val_data_x_val,\n",
    "                 target: val_data_y_val,\n",
    "                 train: 0.}\n",
    "\n",
    "#Define a TF session\n",
    "s = tf.Session()\n",
    "\n",
    "#Run the initialization of the network\n",
    "s.run(tf.global_variables_initializer())\n",
    "\n",
    "#Store the initial weights of the network\n",
    "init_weights_BPTT = s.run(vals_tensor_BPTT)\n",
    "init_weights_OSTL = s.run(vals_tensor_OSTL)\n",
    "\n",
    "#Iterate over the training data\n",
    "iterations = int(2000/config['batch_size'])\n",
    "\n",
    "#Try to load a checkpoint if any exists\n",
    "resume = Utils_Persistence.LoadObject('./checkpoints/GradEqu_' + config['cell'])\n",
    "if resume is not None:\n",
    "    print('Loading checkpoint')\n",
    "    itrStart = resume['itr']\n",
    "    np.random.set_state(resume['rng'])\n",
    "    Utils_Persistence.PersistenceLoadThis(s, 'GradEqu_' + config['cell'] + '_e' + str(itrStart), withGraph=False)\n",
    "    if itrStart >= iterations:\n",
    "        print(\"State loaded: already finished training at itr\", itrStart, \". Plotting & exiting.\")\n",
    "        exit(0)\n",
    "    else:\n",
    "        print('State loaded: resuming the learning from itr', itrStart)\n",
    "    not_loaded = False\n",
    "else:\n",
    "    print(\"Did not find checkpoint. Run from scratch\")\n",
    "    itrStart = 0\n",
    "    not_loaded = True\n",
    "\n",
    "for itr in range(itrStart, iterations):\n",
    "\n",
    "    #Define the feed dictionary for training\n",
    "    feed_dict = {x: train_data_x_val[(config['batch_size']*itr):(config['batch_size']*(itr+1)), :],\n",
    "                 target: train_data_y_val[(config['batch_size']*itr):(config['batch_size']*(itr+1)), :],\n",
    "                 train: 1.}\n",
    "    \n",
    "    #Run a single training step\n",
    "    o_BPTT, o_OSTL, _, _ = s.run([out_BPTT, out_OSTL, train_step_BPTT, train_step_OSTL], feed_dict=feed_dict)\n",
    "\n",
    "    #Store the intermediate values of the parameters\n",
    "    vals_BPTT.append(s.run(vals_tensor_BPTT))\n",
    "    vals_OSTL.append(s.run(vals_tensor_OSTL))\n",
    "    \n",
    "    #Evaluate the model on the testset every 100 iterations\n",
    "    if itr % 100 == 0:\n",
    "        l_BPTT, l_OSTL = s.run([loss_BPTT, loss_OSTL], feed_dict=feed_dict_val)\n",
    "        print('(' + str(itr + 100) + '/' + str(iterations) + ') Loss (BPTT): ' + str(l_BPTT) + ', Loss (OSTL): ' + str(l_OSTL))\n",
    "      \n",
    "vals_BPTT.append(s.run(vals_tensor_BPTT))\n",
    "vals_OSTL.append(s.run(vals_tensor_OSTL))\n",
    "    \n",
    "#Save the final checkpoint\n",
    "if not_loaded and 'GradEqu_' + config['cell'] is not None and config['save_state']:\n",
    "    Utils_Persistence.PersitenceSaveThis(s, 'GradEqu_' + config['cell'] + '_e' + str(itr))\n",
    "    Utils_Persistence.SaveObject({'itr': itr, 'rng': np.random.get_state(),\n",
    "                                  'vals_BPTT': vals_BPTT, 'vals_OSTL': vals_OSTL},\n",
    "                                  './checkpoints/GradEqu_' + config['cell'])    \n",
    "    print('State saved at iteration ' + str(itr))"
   ]
  },
  {
   "cell_type": "markdown",
   "metadata": {},
   "source": [
    "### Evaluate the network\n",
    "\n",
    "Load stored checkpoints"
   ]
  },
  {
   "cell_type": "code",
   "execution_count": 12,
   "metadata": {},
   "outputs": [
    {
     "name": "stdout",
     "output_type": "stream",
     "text": [
      "Loading checkpoint\n",
      "INFO:tensorflow:Restoring parameters from ./checkpoints/GradEqu_sSNU_e1999\n",
      "State loaded: resuming the learning from itr 1999\n"
     ]
    }
   ],
   "source": [
    "#Try to load a checkpoint if any exists\n",
    "resume = Utils_Persistence.LoadObject('./checkpoints/GradEqu_' + config['cell'])\n",
    "if resume is not None:\n",
    "    print('Loading checkpoint')\n",
    "    itrStart = resume['itr']\n",
    "    vals_BPTT = resume['vals_BPTT']\n",
    "    vals_OSTL = resume['vals_OSTL']\n",
    "    np.random.set_state(resume['rng'])\n",
    "    Utils_Persistence.PersistenceLoadThis(s, 'GradEqu_' + config['cell'] + '_e' + str(itrStart), withGraph=False)\n",
    "    print('State loaded: resuming the learning from itr', itrStart)\n",
    "else:\n",
    "    print(\"Did not find checkpoint. Please run model from scratch!\")"
   ]
  },
  {
   "cell_type": "markdown",
   "metadata": {},
   "source": [
    "After the model has been trained for a while, the model can be tested on unseed data"
   ]
  },
  {
   "cell_type": "code",
   "execution_count": 13,
   "metadata": {},
   "outputs": [
    {
     "name": "stdout",
     "output_type": "stream",
     "text": [
      "Demo XOR data\n",
      "Input: [1 0 1 1 0 0 1 1 0 1]\n",
      "\n",
      "Ouput: [0 1 1 1 0 0 0 0 1 0]\n",
      "BPTT:  [0 1 0 0 1 1 0 0 1 0]\n",
      "OSTL:  [0 1 0 0 1 1 0 0 1 0]\n"
     ]
    }
   ],
   "source": [
    "print('Demo XOR data')\n",
    "print('Input: ' + str(test_data_x_val[0, :, 0].flatten().astype(np.int32)) + '\\n')\n",
    "print('Ouput: ' + str(test_data_y_val[0, :, 0].flatten()))\n",
    "\n",
    "#Create the new feed_dict\n",
    "feed_dict_test = {x: test_data_x_val,\n",
    "                  target: test_data_y_val,\n",
    "                  train: 0.}\n",
    "o_BPTT, o_OSTL = s.run([out_BPTT, out_OSTL], feed_dict=feed_dict_test)\n",
    "print('BPTT:  ' + str((o_BPTT[0] > 0.5).astype(np.int32).flatten()) + '\\nOSTL:  ' + str((o_OSTL[0] > 0.5).astype(np.int32).flatten()))"
   ]
  },
  {
   "cell_type": "markdown",
   "metadata": {},
   "source": [
    "### Investigate the gradients\n",
    "\n",
    "In this simple scenario of a single-layered RNN, it can be shown that the gradients of OSTL and BPTT are equivalent. This is empirically demonstrated below. First, a random element of the input weights is selected and then analyzed."
   ]
  },
  {
   "cell_type": "code",
   "execution_count": 14,
   "metadata": {},
   "outputs": [],
   "source": [
    "#Pick randomly entries from the gradients for each trainable parameter\n",
    "param_ind = []\n",
    "for param in tf.trainable_variables()[:vals_tensor_length]:\n",
    "    param_ind.append(np.random.randint(0, int(np.prod(param.shape))))"
   ]
  },
  {
   "cell_type": "markdown",
   "metadata": {},
   "source": [
    "The figure below illustrates the evolution of the learning signal and of the eligibility trace. Those two quantities combined together form the gradient updates for the parameters. One can see in the third panel that the gradient updates of BPTT and of OSTL align.\n",
    "\n",
    "![](learn_el.svg)"
   ]
  },
  {
   "cell_type": "code",
   "execution_count": 15,
   "metadata": {},
   "outputs": [
    {
     "data": {
      "text/plain": [
       "<matplotlib.legend.Legend at 0x2075e144d48>"
      ]
     },
     "execution_count": 15,
     "metadata": {},
     "output_type": "execute_result"
    },
    {
     "data": {
      "image/png": "[encoded data removed]",
      "text/plain": [
       "<Figure size 1440x720 with 1 Axes>"
      ]
     },
     "metadata": {
      "needs_background": "light"
     },
     "output_type": "display_data"
    }
   ],
   "source": [
    "fig, ax = plt.subplots(1, 1)\n",
    "for ind, param in enumerate(tf.trainable_variables()[:1]):\n",
    "    data_BPTT = [p.flatten()[param_ind[ind]] for p in [g[ind] for g in vals_BPTT]][:100]\n",
    "    data_OSTL = [p.flatten()[param_ind[ind]] for p in [g[ind] for g in vals_OSTL]][:100]\n",
    "    line = ax.plot(np.arange(len(data_OSTL)), data_OSTL, label=r'$\\theta_' + str(ind) + '$ OSTL')\n",
    "    ax.scatter(np.arange(len(data_BPTT)), data_BPTT, marker='x', s=200., color=line[0].get_color(), label=r'$\\theta_' + str(ind) + '$ BPTT')\n",
    "ax.set_ylabel(r'Value of $\\theta$')\n",
    "ax.set_xlabel('Time')\n",
    "ax.legend()"
   ]
  }
 ],
 "metadata": {
  "jupytext": {
   "formats": "ipynb,auto:percent"
  },
  "kernelspec": {
   "display_name": "Python 3 (ipykernel)",
   "language": "python",
   "name": "python3"
  },
  "language_info": {
   "codemirror_mode": {
    "name": "ipython",
    "version": 3
   },
   "file_extension": ".py",
   "mimetype": "text/x-python",
   "name": "python",
   "nbconvert_exporter": "python",
   "pygments_lexer": "ipython3",
   "version": "3.7.4"
  }
 },
 "nbformat": 4,
 "nbformat_minor": 4
}
